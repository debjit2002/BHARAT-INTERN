{
 "cells": [
  {
   "cell_type": "markdown",
   "id": "10a60380",
   "metadata": {},
   "source": [
    "# Handwritten Digit Recognition :"
   ]
  },
  {
   "cell_type": "markdown",
   "id": "3008c243",
   "metadata": {},
   "source": [
    "## Libraries used :\n",
    "tensorflow: TensorFlow is an open-source machine learning library developed by Google. It provides a comprehensive set of tools for building and training machine learning models.\n",
    "\n",
    "keras: Keras is a high-level API for building and training deep learning models. It is built on top of TensorFlow and provides a simpler, more intuitive interface for building models.\n",
    "\n",
    "numpy: NumPy is a Python library for numerical computing. It provides support for large, multi-dimensional arrays and matrices, as well as a wide range of mathematical functions for working with these arrays.\n",
    "\n",
    "matplotlib: Matplotlib is a data visualization library for Python. It provides tools for creating a wide range of plots and charts, including line plots, scatter plots, bar plots, and more.\n",
    "\n",
    "mnist: The MNIST dataset is a collection of handwritten digits that is often used as a benchmark dataset for image classification tasks. It is provided as part of the TensorFlow library and can be easily loaded using the mnist.load_data() function."
   ]
  },
  {
   "cell_type": "code",
   "execution_count": 1,
   "id": "bd587956",
   "metadata": {},
   "outputs": [],
   "source": [
    "import tensorflow as tf\n",
    "from tensorflow import keras\n",
    "from tensorflow.keras.datasets import mnist\n",
    "import matplotlib.pyplot as plt\n",
    "import numpy as np"
   ]
  },
  {
   "cell_type": "markdown",
   "id": "20f95ff3",
   "metadata": {},
   "source": [
    "## Load the MNIST dataset\n",
    "We then load the MNIST dataset, which is split into training and test sets. \n",
    "The load_data() function returns the dataset split into training and test data and labels"
   ]
  },
  {
   "cell_type": "code",
   "execution_count": 2,
   "id": "47930d3e",
   "metadata": {},
   "outputs": [],
   "source": [
    "(x_train, y_train), (x_test, y_test) = mnist.load_data()   # Load MNIST dataset into training and test sets"
   ]
  },
  {
   "cell_type": "markdown",
   "id": "e9f0ad78",
   "metadata": {},
   "source": [
    "## Normalize the input data:\n",
    "\n",
    "We normalize the input data by dividing each pixel value by 255.0, so that all pixel values are between 0 and 1."
   ]
  },
  {
   "cell_type": "code",
   "execution_count": 3,
   "id": "a69ea6af",
   "metadata": {},
   "outputs": [],
   "source": [
    "x_train = x_train / 255.0                                               # Normalize training set by dividing each pixel value by 255\n",
    "x_test = x_test / 255.0                                                 # Normalize test set by dividing each pixel value by 255"
   ]
  },
  {
   "cell_type": "markdown",
   "id": "3376b7e9",
   "metadata": {},
   "source": [
    "## Building the model architecture:\n",
    "\n",
    "We define a simple neural network with one hidden layer, which takes the flattened input images (28x28 pixels) as input and outputs a probability distribution over the 10 possible classes (0 to 9). \n",
    "The Sequential model is used, which is a linear stack of layers. We define the model architecture using the Dense layer, which is a fully connected layer."
   ]
  },
  {
   "cell_type": "code",
   "execution_count": 4,
   "id": "e23650d3",
   "metadata": {},
   "outputs": [],
   "source": [
    "model = keras.models.Sequential([                               # Define a sequential model object\n",
    "    keras.layers.Flatten(input_shape=(28, 28)),              # Flatten the input images into 1D array\n",
    "    keras.layers.Dense(128, activation='relu'),\n",
    "    keras.layers.Dropout(0.2),\n",
    "    keras.layers.Dense(10, activation='softmax')\n",
    "])"
   ]
  },
  {
   "cell_type": "markdown",
   "id": "d3271015",
   "metadata": {},
   "source": [
    "## Compile the model:\n",
    "\n",
    "We compile the model with the Adam optimizer, which is an adaptive learning rate optimization algorithm. The loss function used is sparse_categorical_crossentropy, which is used when the labels are integers. We also specify the metric to evaluate the model's performance."
   ]
  },
  {
   "cell_type": "code",
   "execution_count": 5,
   "id": "1d91a85c",
   "metadata": {},
   "outputs": [],
   "source": [
    "model.compile(optimizer='adam',\n",
    "              loss='sparse_categorical_crossentropy',\n",
    "              metrics=['accuracy'])"
   ]
  },
  {
   "cell_type": "markdown",
   "id": "dadc944b",
   "metadata": {},
   "source": [
    "## Training the model:\n",
    "\n",
    "We train the model on the training data for 10 epochs using the fit() function."
   ]
  },
  {
   "cell_type": "code",
   "execution_count": 6,
   "id": "a796d460",
   "metadata": {},
   "outputs": [
    {
     "name": "stdout",
     "output_type": "stream",
     "text": [
      "Epoch 1/10\n",
      "1875/1875 [==============================] - 26s 13ms/step - loss: 0.2979 - accuracy: 0.9140\n",
      "Epoch 2/10\n",
      "1875/1875 [==============================] - 23s 12ms/step - loss: 0.1432 - accuracy: 0.9574\n",
      "Epoch 3/10\n",
      "1875/1875 [==============================] - 23s 12ms/step - loss: 0.1095 - accuracy: 0.9663\n",
      "Epoch 4/10\n",
      "1875/1875 [==============================] - 23s 12ms/step - loss: 0.0886 - accuracy: 0.9732\n",
      "Epoch 5/10\n",
      "1875/1875 [==============================] - 24s 13ms/step - loss: 0.0777 - accuracy: 0.9755\n",
      "Epoch 6/10\n",
      "1875/1875 [==============================] - 26s 14ms/step - loss: 0.0657 - accuracy: 0.9791\n",
      "Epoch 7/10\n",
      "1875/1875 [==============================] - 25s 13ms/step - loss: 0.0577 - accuracy: 0.9809\n",
      "Epoch 8/10\n",
      "1875/1875 [==============================] - 26s 14ms/step - loss: 0.0524 - accuracy: 0.9832\n",
      "Epoch 9/10\n",
      "1875/1875 [==============================] - 24s 13ms/step - loss: 0.0486 - accuracy: 0.9842\n",
      "Epoch 10/10\n",
      "1875/1875 [==============================] - 24s 13ms/step - loss: 0.0448 - accuracy: 0.9851\n"
     ]
    },
    {
     "data": {
      "text/plain": [
       "<keras.callbacks.History at 0x2430018bb50>"
      ]
     },
     "execution_count": 6,
     "metadata": {},
     "output_type": "execute_result"
    }
   ],
   "source": [
    "model.fit(x_train, y_train, epochs=10)"
   ]
  },
  {
   "cell_type": "markdown",
   "id": "09e0ee0a",
   "metadata": {},
   "source": [
    "## Evaluate the model on test data:\n",
    "\n",
    "We evaluate the model's performance on the test data using the evaluate() function, which returns the loss and accuracy of the model on the test data."
   ]
  },
  {
   "cell_type": "code",
   "execution_count": 7,
   "id": "6f274fe6",
   "metadata": {},
   "outputs": [
    {
     "name": "stdout",
     "output_type": "stream",
     "text": [
      "313/313 - 2s - loss: 0.0717 - accuracy: 0.9776 - 2s/epoch - 6ms/step\n",
      "\n",
      "Test accuracy: 0.9775999784469604\n"
     ]
    }
   ],
   "source": [
    "test_loss, test_acc = model.evaluate(x_test, y_test, verbose=2)\n",
    "print('\\nTest accuracy:', test_acc)"
   ]
  },
  {
   "cell_type": "markdown",
   "id": "083bc235",
   "metadata": {},
   "source": [
    "## Make predictions on new data:\n",
    "\n",
    "We make predictions on the first 5 test images using the predict() function, which returns the probability distribution over the 10 possible classes."
   ]
  },
  {
   "cell_type": "code",
   "execution_count": 8,
   "id": "44fc2797",
   "metadata": {},
   "outputs": [
    {
     "name": "stdout",
     "output_type": "stream",
     "text": [
      "1/1 [==============================] - 0s 129ms/step\n"
     ]
    }
   ],
   "source": [
    "predictions = model.predict(x_test[:8])"
   ]
  },
  {
   "cell_type": "markdown",
   "id": "5b3d5c6b",
   "metadata": {},
   "source": [
    "## Print the predictions along with the images:\n",
    "\n",
    "We iterate over the first 5 test images, plot them using imshow, and display their predicted labels using xlabel. The color of the label is green if the prediction is correct and red if it's incorrect. Finally, we use show to display the plot."
   ]
  },
  {
   "cell_type": "code",
   "execution_count": 9,
   "id": "578febb2",
   "metadata": {},
   "outputs": [
    {
     "data": {
      "image/png": "[encoded data removed]",
      "text/plain": [
       "<Figure size 432x288 with 8 Axes>"
      ]
     },
     "metadata": {},
     "output_type": "display_data"
    }
   ],
   "source": [
    "for i in range(8):\n",
    "    plt.subplot(1, 8, i+1)\n",
    "    plt.xticks([])\n",
    "    plt.yticks([])\n",
    "    plt.grid(False)\n",
    "    plt.imshow(x_test[i], cmap=plt.cm.binary)\n",
    "    predicted_label = np.argmax(predictions[i])\n",
    "    true_label = y_test[i]\n",
    "    if predicted_label == true_label:\n",
    "        color = 'green'\n",
    "    else:\n",
    "        color = 'red'\n",
    "    plt.xlabel(\"{} ({})\".format(predicted_label, true_label), color=color)\n",
    "plt.show()"
   ]
  }
 ],
 "metadata": {
  "kernelspec": {
   "display_name": "Python 3 (ipykernel)",
   "language": "python",
   "name": "python3"
  },
  "language_info": {
   "codemirror_mode": {
    "name": "ipython",
    "version": 3
   },
   "file_extension": ".py",
   "mimetype": "text/x-python",
   "name": "python",
   "nbconvert_exporter": "python",
   "pygments_lexer": "ipython3",
   "version": "3.7.8"
  },
  "varInspector": {
   "cols": {
    "lenName": 16,
    "lenType": 16,
    "lenVar": 40
   },
   "kernels_config": {
    "python": {
     "delete_cmd_postfix": "",
     "delete_cmd_prefix": "del ",
     "library": "var_list.py",
     "varRefreshCmd": "print(var_dic_list())"
    },
    "r": {
     "delete_cmd_postfix": ") ",
     "delete_cmd_prefix": "rm(",
     "library": "var_list.r",
     "varRefreshCmd": "cat(var_dic_list()) "
    }
   },
   "types_to_exclude": [
    "module",
    "function",
    "builtin_function_or_method",
    "instance",
    "_Feature"
   ],
   "window_display": false
  }
 },
 "nbformat": 4,
 "nbformat_minor": 5
}
